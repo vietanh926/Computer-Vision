{
 "cells": [
  {
   "cell_type": "markdown",
   "id": "bdaf6720",
   "metadata": {},
   "source": [
    "<center>\n",
    "    <img src='images/logo.png' width='400px'>\n",
    "    <h1>MÔN HỌC: THỊ GIÁC MÁY TÍNH (7080518)</h1>\n",
    "<h2> Chương 2: XỬ LÝ VÀ NÂNG CAO CHẤT LƯỢNG ẢNH - Phần 2</h2>\n",
    "</center>\n",
    "\n",
    "---\n",
    "Xử lý ảnh (Image processing): là quá trình tạo ra ảnh mới từ ảnh có sẵn, VD: tăng độ sáng, cắt ảnh, khử nhiễu,… không tập trung vào việc hiểu nội dung của bức ảnh.\n",
    "\n",
    "**Nội dung bài học - phần 2:**\n",
    "\n",
    "**II. Cải thiện chất lượng ảnh:**\n",
    "\n",
    "1. Cơ bản về cải thiện chất lượng ảnh\n",
    "2. Các phép toán trên điểm ảnh:\n",
    "    * Đảo ảnh\n",
    "    * Biến đổi gama\n",
    "    * Chuyển đổi ảnh nhị phân (cắt ngưỡng)\n",
    "    * Câng bằng sáng histogram\n",
    "---\n",
    "*Copyright @dangvannam.FIT.HUMG*"
   ]
  },
  {
   "cell_type": "code",
   "execution_count": null,
   "id": "cfd52668",
   "metadata": {},
   "outputs": [],
   "source": [
    "#Khai báo sử dụng thư viện:\n",
    "import numpy as np\n",
    "import matplotlib.pyplot as plt\n",
    "import cv2\n",
    "print('Version OpenCV:', cv2.__version__)"
   ]
  },
  {
   "cell_type": "markdown",
   "id": "4cd5d3b1",
   "metadata": {},
   "source": [
    "## 2.1 Đảo ảnh \n",
    "---\n",
    "Với các ảnh có mức xám trong vùng [0,N]\n",
    "thực hiện thao tác xử lý điểm ảnh có dạng s = N - r trong đó:\n",
    "* s: là điểm ảnh đã xử lý\n",
    "* r: điểm đầu vào\n",
    "* N: mức xám cực đại"
   ]
  },
  {
   "cell_type": "code",
   "execution_count": null,
   "id": "31d26879",
   "metadata": {},
   "outputs": [],
   "source": [
    "#Đọc ảnh xám: Pic_cat.jpg\n",
    "\n",
    "\n",
    "\n",
    "#Thực hiện Đảo ảnh: \n",
    "\n",
    "\n",
    "\n",
    "#Hiển thị kết quả ảnh trước và sau khi đảo ảnh:\n",
    "\n",
    "\n"
   ]
  },
  {
   "cell_type": "code",
   "execution_count": null,
   "id": "7ecbf0b3",
   "metadata": {},
   "outputs": [],
   "source": []
  },
  {
   "cell_type": "code",
   "execution_count": null,
   "id": "938cd368",
   "metadata": {},
   "outputs": [],
   "source": [
    "#Pixel ảnh gốc:\n"
   ]
  },
  {
   "cell_type": "code",
   "execution_count": null,
   "id": "bb1b6a2d",
   "metadata": {},
   "outputs": [],
   "source": [
    "#Pixel ảnh đảo:\n"
   ]
  },
  {
   "cell_type": "code",
   "execution_count": null,
   "id": "e82f8bcf",
   "metadata": {},
   "outputs": [],
   "source": []
  },
  {
   "cell_type": "code",
   "execution_count": null,
   "id": "13464179",
   "metadata": {},
   "outputs": [],
   "source": []
  },
  {
   "cell_type": "code",
   "execution_count": null,
   "id": "2a59f71e",
   "metadata": {},
   "outputs": [],
   "source": []
  },
  {
   "cell_type": "code",
   "execution_count": null,
   "id": "079a30da",
   "metadata": {
    "scrolled": false
   },
   "outputs": [],
   "source": [
    "#Ứng dụng Đảo ảnh trong Y tế: pic_healthcare.tif\n",
    "#Đọc ảnh gốc:\n"
   ]
  },
  {
   "cell_type": "code",
   "execution_count": null,
   "id": "4b0b4636",
   "metadata": {},
   "outputs": [],
   "source": []
  },
  {
   "cell_type": "code",
   "execution_count": null,
   "id": "c5fd5e1c",
   "metadata": {},
   "outputs": [],
   "source": []
  },
  {
   "cell_type": "code",
   "execution_count": null,
   "id": "7421f450",
   "metadata": {},
   "outputs": [],
   "source": []
  },
  {
   "cell_type": "code",
   "execution_count": null,
   "id": "76769479",
   "metadata": {},
   "outputs": [],
   "source": []
  },
  {
   "cell_type": "code",
   "execution_count": null,
   "id": "80431a36",
   "metadata": {},
   "outputs": [],
   "source": [
    "#Trường hợp đảo ảnh màu: pic_color.jpg\n",
    "\n",
    "\n",
    "\n"
   ]
  },
  {
   "cell_type": "code",
   "execution_count": null,
   "id": "6205efd1",
   "metadata": {},
   "outputs": [],
   "source": []
  },
  {
   "cell_type": "markdown",
   "id": "f72e3740",
   "metadata": {},
   "source": [
    "## THỰC HÀNH 2.4: \n",
    "---\n",
    "**Yêu cầu 1:** Sinh viên đọc ảnh images/Thuchanh2_4.jpeg dạng ảnh xám và hiển thị ảnh\n",
    "\n",
    "**Yêu cầu 2:** Thực hiện đảo ảnh và hiển thị kết quả. Lưu file ảnh đã đảo vào thư mục Saves/MSV_daoanh.jpg\n",
    "\n",
    "<img src='images/Thuchanh2_4.jpeg' width='300px'>"
   ]
  },
  {
   "cell_type": "code",
   "execution_count": null,
   "id": "320b8ec7",
   "metadata": {},
   "outputs": [],
   "source": [
    "#{SINH VIÊN VIẾT CODE Ở ĐÂY}\n",
    "\n",
    "\n",
    "\n",
    "\n",
    "\n"
   ]
  },
  {
   "cell_type": "code",
   "execution_count": null,
   "id": "763bd908",
   "metadata": {},
   "outputs": [],
   "source": []
  },
  {
   "cell_type": "code",
   "execution_count": null,
   "id": "1287992e",
   "metadata": {},
   "outputs": [],
   "source": []
  },
  {
   "cell_type": "markdown",
   "id": "e4cd2e3a",
   "metadata": {},
   "source": [
    "## 2.2 Biến đổi hàm mũ\n",
    "---\n",
    "Phép toán biến đổi ảnh bằng hàm mũ có dạng: \n",
    "\n",
    "**s = c * r^a**\n",
    "\n",
    "Trong đó:\n",
    "* s: điểm ảnh đã xử lý\n",
    "* r: điểm ảnh ban đầu\n",
    "* c,a: các hằng số\n",
    "\n",
    "**s = c * pow(img,a)**"
   ]
  },
  {
   "cell_type": "code",
   "execution_count": null,
   "id": "04a23627",
   "metadata": {
    "scrolled": false
   },
   "outputs": [],
   "source": [
    "#Đọc ảnh gốc ở chế độ ảnh Xám: pic_sanbay.tif\n",
    "\n",
    "\n",
    "\n",
    "\n",
    "#Thực hiện biến đổi ảnh với hàm mũ:\n",
    "\n",
    "\n",
    "\n",
    "\n",
    "#Hiển thị kết quả trước và sau khi biến đổi:\n",
    "\n",
    "\n",
    "\n"
   ]
  },
  {
   "cell_type": "code",
   "execution_count": null,
   "id": "f3259a67",
   "metadata": {},
   "outputs": [],
   "source": [
    "#Pixel Ảnh gốc:\n"
   ]
  },
  {
   "cell_type": "code",
   "execution_count": null,
   "id": "fa45bd32",
   "metadata": {},
   "outputs": [],
   "source": [
    "#Pixel Ảnh sau biến đổi Gamma:"
   ]
  },
  {
   "cell_type": "code",
   "execution_count": null,
   "id": "951eda01",
   "metadata": {},
   "outputs": [],
   "source": []
  },
  {
   "cell_type": "code",
   "execution_count": null,
   "id": "f4014ec1",
   "metadata": {},
   "outputs": [],
   "source": []
  },
  {
   "cell_type": "code",
   "execution_count": null,
   "id": "0fbcbf0f",
   "metadata": {},
   "outputs": [],
   "source": [
    "#Viết hàm xử lý ảnh với hàm mũ:\n",
    "\n",
    "\n"
   ]
  },
  {
   "cell_type": "code",
   "execution_count": null,
   "id": "17dcd437",
   "metadata": {},
   "outputs": [],
   "source": [
    "#Biến đổi ảnh với hàm mũ sử dụng các tham số khác nhau:\n",
    "\n",
    "\n"
   ]
  },
  {
   "cell_type": "code",
   "execution_count": null,
   "id": "ec70d42f",
   "metadata": {},
   "outputs": [],
   "source": [
    "\n",
    "\n",
    "\n"
   ]
  },
  {
   "cell_type": "markdown",
   "id": "590f539f",
   "metadata": {},
   "source": [
    "## THỰC HÀNH 2.5: \n",
    "---\n",
    "**Yêu cầu 1:** Sinh viên đọc ảnh images/Thuchanh2_5.jpg ở dạng xám\n",
    "\n",
    "**Yêu cầu 2:** Thiết lập tham số c, a phù hợp để tăng cường chất lượng ảnh và hiển thị kết quả (slide). Lưu file ảnh đã  đổi vào thư mục Saves/MSV_gamma.jpg\n",
    "\n",
    "<img src='images/Thuchanh2_5.jpg' width='300px'>"
   ]
  },
  {
   "cell_type": "code",
   "execution_count": null,
   "id": "2dea1632",
   "metadata": {},
   "outputs": [],
   "source": [
    "#{SINH VIÊN VIẾT CODE Ở ĐÂY}\n",
    "\n",
    "\n",
    "\n",
    "\n",
    "\n"
   ]
  },
  {
   "cell_type": "code",
   "execution_count": null,
   "id": "1a08b5db",
   "metadata": {},
   "outputs": [],
   "source": []
  },
  {
   "cell_type": "markdown",
   "id": "9db9330e",
   "metadata": {},
   "source": [
    "## 2.3 Chuyển đổi sang ảnh nhị phân (cắt ngưỡng)\n",
    "---\n",
    "Sử dụng một ngưỡng (threshold) T để xử lý. Nếu:\n",
    "* r<T thì s=0\n",
    "* r>=T thì s=N (hoặc s = 1)\n",
    "\n",
    "Ảnh là một ma trận nên có thể sử dụng các Hàm với ma trận của thư viên Numpy\n",
    "- np.where(img<T, a, b): điều kiện đúng trả về a, sai trả về b"
   ]
  },
  {
   "cell_type": "code",
   "execution_count": null,
   "id": "804a3773",
   "metadata": {},
   "outputs": [],
   "source": [
    "#Đọc ảnh xám: pic_fish.jpg\n",
    "\n",
    "\n",
    "\n",
    "#Thực hiện cắt ngưỡng ảnh:\n",
    "\n",
    "\n",
    "\n",
    "\n",
    "#Hiển thị kết quả trước và sau khi cắt ngưỡng:\n",
    "\n",
    "\n",
    "\n",
    "\n",
    "\n"
   ]
  },
  {
   "cell_type": "code",
   "execution_count": null,
   "id": "c835daed",
   "metadata": {},
   "outputs": [],
   "source": [
    "#Pixel ảnh gốc:\n",
    "\n"
   ]
  },
  {
   "cell_type": "code",
   "execution_count": null,
   "id": "c7750e41",
   "metadata": {},
   "outputs": [],
   "source": [
    "#Pixel ảnh sau cắt ngưỡng:\n",
    "\n"
   ]
  },
  {
   "cell_type": "code",
   "execution_count": null,
   "id": "2e463c80",
   "metadata": {},
   "outputs": [],
   "source": []
  },
  {
   "cell_type": "code",
   "execution_count": null,
   "id": "4b9413d6",
   "metadata": {},
   "outputs": [],
   "source": []
  },
  {
   "cell_type": "code",
   "execution_count": null,
   "id": "8dd2864a",
   "metadata": {},
   "outputs": [],
   "source": []
  },
  {
   "cell_type": "markdown",
   "id": "6b217e08",
   "metadata": {},
   "source": [
    "### Trong openCV cũng xây dựng phương thức thực hiện việc cắt ngưỡng: Simple Thresholding\n",
    "\n",
    "ret,thresh1 = cv2.threshold(img,T,max,type)\n",
    "\n",
    "trong đó:\n",
    "* img: ảnh gốc\n",
    "* T: giá trị ngưỡng\n",
    "* max: giá trị đc gán nếu > ngưỡng T\n",
    "* type: Loại xử lý cắt ngưỡng"
   ]
  },
  {
   "cell_type": "code",
   "execution_count": null,
   "id": "92344d6e",
   "metadata": {},
   "outputs": [],
   "source": [
    "#Sử dụng phương thức threshold của OpenCV để cắt ngưỡng:\n",
    "\n",
    "\n",
    "\n",
    "\n",
    "\n",
    "#Hiển thị kết quả cắt ngưỡng với threshold:\n",
    "\n",
    "\n",
    "\n"
   ]
  },
  {
   "cell_type": "markdown",
   "id": "4bfd8ae1",
   "metadata": {},
   "source": [
    "Thuật toán sample thresholding của opencv còn có 1 tham số quan trọng là loại ngưỡng (type). opencv hỗ trợ 8 loại là: THRESH_BINARY, THRESH_BINARY_INV, THRESH_TRUNC, THRESH_TOZERO, THRESH_TOZERO_INV, THRESH_MASK, THRESH_OTSU, THRESH_TRIANGLE. Ý nghĩa của từng loại như sau:\n",
    "\n",
    "* THRESH_BINARY: Có thể dịch là ngưỡng nhị phân. Ý nghĩa y hệt những gì đề cập ở trên.\n",
    "\n",
    "* THRESH_BINARY_INV: Ngưỡng nhị phân đảo ngược. Có thể hiểu là nó sẽ đảo ngược lại kết quả của THRESH_BINARY.\n",
    "\n",
    "* THRESH_TRUNC: Những giá trị điểm ảnh bé hơn ngưỡng sẽ giữ nguyên giá trị, những điểm ảnh lớn hơn hoặc bằng ngưỡng sẽ được gán lại là maxvalue.\n",
    "\n",
    "* THRESH_TOZERO: Những điểm ảnh bé hơn ngưỡng sẽ bị gán thành 0, những điểm còn lại giữ nguyên.\n",
    "\n",
    "* THRESH_TOZERO_INV: Những điểm ảnh nhỏ hơn giá trị ngưỡng sẽ được giữ nguyên, những điểm ảnh còn lại sẽ bị gán thành 0."
   ]
  },
  {
   "cell_type": "code",
   "execution_count": null,
   "id": "95800e0c",
   "metadata": {},
   "outputs": [],
   "source": [
    "#Sử dụng cắt ngưỡng với các loại ngưỡng khác nhau:\n",
    "ret,pic1 = cv2.threshold(img,120,255,cv2.THRESH_BINARY)\n",
    "ret,pic2 = cv2.threshold(img,120,255,cv2.THRESH_BINARY_INV)\n",
    "ret,pic3 = cv2.threshold(img,120,255,cv2.THRESH_TRUNC)\n",
    "ret,pic4 = cv2.threshold(img,120,255,cv2.THRESH_TOZERO)\n",
    "ret,pic5 = cv2.threshold(img,120,255,cv2.THRESH_TOZERO_INV)\n",
    "\n",
    "#Hiển thị kết quả:\n",
    "plt.figure(figsize=(20,15))\n",
    "plt.subplot(2, 3, 1)\n",
    "plt.imshow(img, cmap='gray')\n",
    "plt.title('Ảnh gốc ban đầu')\n",
    "\n",
    "plt.subplot(2, 3, 2)\n",
    "plt.imshow(pic1, cmap='gray')\n",
    "plt.title('Type: THRESH_BINARY')\n",
    "\n",
    "plt.subplot(2, 3, 3)\n",
    "plt.imshow(pic2, cmap='gray')\n",
    "plt.title('Tpye: THRESH_BINARY_INV')\n",
    "\n",
    "plt.subplot(2, 3, 4)\n",
    "plt.imshow(pic3, cmap='gray')\n",
    "plt.title('Type: THRESH_TRUNC')\n",
    "\n",
    "plt.subplot(2, 3, 5)\n",
    "plt.imshow(pic4, cmap='gray')\n",
    "plt.title('Type: THRESH_TOZERO')\n",
    "\n",
    "plt.subplot(2, 3, 6)\n",
    "plt.imshow(pic5, cmap='gray')\n",
    "plt.title('Type: THRESH_TOZERO_INV')\n",
    "plt.show()\n"
   ]
  },
  {
   "cell_type": "code",
   "execution_count": null,
   "id": "562af9b1",
   "metadata": {},
   "outputs": [],
   "source": []
  },
  {
   "cell_type": "code",
   "execution_count": null,
   "id": "d083099c",
   "metadata": {},
   "outputs": [],
   "source": []
  },
  {
   "cell_type": "markdown",
   "id": "633c9ddb",
   "metadata": {},
   "source": [
    "## THỰC HÀNH 2.6: \n",
    "---\n",
    "**Yêu cầu 1:** Sinh viên đọc ảnh images/Thuchanh2_6.jpg ở dạng xám\n",
    "\n",
    "**Yêu cầu 2:** Thực hiện cắt ngưỡng ảnh với (Type = cv2.THRESH_BINARY) lần lượt với T = 50, 100, 150. Hiển thị kết quả như slide minh hoạ. Lưu ảnh vào thư mục Saves\n",
    "\n",
    "**Yêu cầu 3:** Thiết lập T = 75. Thực hiện cắt ngưỡng với Type = cv2.THRESH_TRUNC, cv2.THRESH_BINARY_INV, cv2.THRESH_TOZERO. Hiển thị kết quả như slide minh hoạ. Lưu ảnh vào thư mục Saves\n",
    "<img src='images/Thuchanh2_6.jpg' width='300px'>"
   ]
  },
  {
   "cell_type": "code",
   "execution_count": null,
   "id": "daeb7185",
   "metadata": {},
   "outputs": [],
   "source": [
    "#{SINH VIÊN VIẾT CODE Ở ĐÂY}\n",
    "\n",
    "\n",
    "\n",
    "\n",
    "\n"
   ]
  },
  {
   "cell_type": "code",
   "execution_count": null,
   "id": "685a7798",
   "metadata": {},
   "outputs": [],
   "source": []
  },
  {
   "cell_type": "code",
   "execution_count": null,
   "id": "92603fac",
   "metadata": {},
   "outputs": [],
   "source": []
  },
  {
   "cell_type": "code",
   "execution_count": null,
   "id": "5eb8e328",
   "metadata": {},
   "outputs": [],
   "source": []
  },
  {
   "cell_type": "markdown",
   "id": "5bc658cf",
   "metadata": {},
   "source": [
    "## 2.2 Cân bằng sáng sử dụng cân bằng Histogram (Histogram equalization)\n",
    "---\n",
    "\n",
    "* Biểu đồ Histogram của ảnh là một dạng biểu đồ biểu diễn sự phân bố của số lượng điểm ảnh tương ứng với mức độ sáng tối của bức ảnh.\n",
    "\n",
    "* Trong đó, trục dọc biểu diễn số lượng điểm ảnh, các đỉnh càng cao thì càng có nhiều điểm ảnh ở khu vực đó và độ chi tiết càng nhiều.\n",
    "* Trục ngang tính từ trái qua phải với mốc giá trị từ 0 đến 255 biểu diễn độ sáng của mỗi khu vực ảnh. Gốc giá trị 0 được coi là tối nhất tựa như màu đen tuyền trong khi càng dịch sang phải giá trị này càng tăng, ngọn sáng nhất của ánh sáng ở giá trị 255.\n",
    "\n",
    "Để tính được Histogram của một ảnh, ta có thể dùng một trong các hàm sau:\n",
    "\n",
    "* cv2.calcHist() - https://docs.opencv.org/2.4/modules/imgproc/doc/histograms.html\n",
    "* plt.hist() - https://matplotlib.org/api/_as_gen/matplotlib.pyplot.hist.html"
   ]
  },
  {
   "cell_type": "code",
   "execution_count": null,
   "id": "59315c2e",
   "metadata": {},
   "outputs": [],
   "source": []
  },
  {
   "cell_type": "code",
   "execution_count": null,
   "id": "d85db258",
   "metadata": {},
   "outputs": [],
   "source": [
    "#Đọc ảnh Xám: pic_fish.jpg\n",
    "\n",
    "\n",
    "\n",
    "#Hiển thị ảnh và histogram của ảnh:\n"
   ]
  },
  {
   "cell_type": "code",
   "execution_count": null,
   "id": "cf63459d",
   "metadata": {},
   "outputs": [],
   "source": [
    "#Xác định số điểm ảnh có giá trị từ 0 --> 255\n",
    "unique_values, counts = np.unique(img_gray, return_counts=True)\n",
    "for val, count in zip(unique_values, counts):\n",
    "    print(f\"Giá trị {val}: xuất hiện {count} lần\")"
   ]
  },
  {
   "cell_type": "code",
   "execution_count": null,
   "id": "0f87b42d",
   "metadata": {},
   "outputs": [],
   "source": []
  },
  {
   "cell_type": "code",
   "execution_count": null,
   "id": "ea9d8fec",
   "metadata": {},
   "outputs": [],
   "source": []
  },
  {
   "cell_type": "code",
   "execution_count": null,
   "id": "f099ed39",
   "metadata": {},
   "outputs": [],
   "source": []
  },
  {
   "cell_type": "code",
   "execution_count": null,
   "id": "55d47d46",
   "metadata": {},
   "outputs": [],
   "source": []
  },
  {
   "cell_type": "code",
   "execution_count": null,
   "id": "de015056",
   "metadata": {},
   "outputs": [],
   "source": [
    "#Đọc ảnh và xem Histogram của ảnh màu\n",
    "img_color= cv2.imread('images/pic_color.jpg')\n",
    "\n",
    "#Hiển thị kết quả:\n",
    "plt.figure(figsize=(10,10))\n",
    "plt.subplot(2, 1, 1)\n",
    "plt.imshow(cv2.cvtColor(img_color,cv2.COLOR_BGR2RGB))\n",
    "plt.title('Ảnh màu R G B')\n",
    "\n",
    "#Đối với ảnh màu, ta có thể xem Histogram của từng kênh màu\n",
    "plt.subplot(2, 1, 2)\n",
    "color = ('b','g','r')\n",
    "\n",
    "for i,col in enumerate(color):\n",
    "    histr = cv2.calcHist([img_color],[i],None,[256],[0,256])\n",
    "    plt.plot(histr,color = col,label = 'Kênh ' + col)\n",
    "    plt.xlim([0,256])\n",
    "plt.title('Biểu đồ Histogram của ảnh theo từng kênh màu')\n",
    "plt.legend()\n",
    "plt.grid()\n",
    "\n",
    "plt.show()"
   ]
  },
  {
   "cell_type": "markdown",
   "id": "df058689",
   "metadata": {},
   "source": [
    "### Dựa vào Histogram có thể biết được bức ảnh là tối (dark) hay sáng (bright).\n",
    "---\n"
   ]
  },
  {
   "cell_type": "code",
   "execution_count": null,
   "id": "ef29c5de",
   "metadata": {},
   "outputs": [],
   "source": [
    "#Đọc ảnh pic1.jpg và hiển thị biểu đồ histogram:\n",
    "\n",
    "\n",
    "\n",
    "\n"
   ]
  },
  {
   "cell_type": "code",
   "execution_count": null,
   "id": "6acd9499",
   "metadata": {},
   "outputs": [],
   "source": [
    "#Đọc ảnh pic2 và hiển thị biểu đồ histogram:\n",
    "\n",
    "\n",
    "\n"
   ]
  },
  {
   "cell_type": "code",
   "execution_count": null,
   "id": "5220763d",
   "metadata": {},
   "outputs": [],
   "source": []
  },
  {
   "cell_type": "markdown",
   "id": "f5ae29c1",
   "metadata": {},
   "source": [
    "### Thực hiện cân bằng sáng \n",
    "---\n",
    "OpenCV hỗ trợ hàm:\n",
    "\n",
    "cv2.equalizeHist() để cân bằng sáng. \n",
    "\n",
    "Trên ảnh gray sử dụng trực tiếp phương thức cv2.equlizeHist() để cân bằng trên toàn bộ ảnh. (ko có tác dụng khi cân bằng sáng cho ảnh nhị phân)"
   ]
  },
  {
   "cell_type": "code",
   "execution_count": null,
   "id": "f7837933",
   "metadata": {},
   "outputs": [],
   "source": [
    "#Thực hiện cân bằng sáng với ảnh Tối:\n",
    "\n",
    "\n",
    "\n",
    "\n",
    "\n"
   ]
  },
  {
   "cell_type": "code",
   "execution_count": null,
   "id": "2f5aa3ef",
   "metadata": {},
   "outputs": [],
   "source": []
  },
  {
   "cell_type": "code",
   "execution_count": null,
   "id": "a357912d",
   "metadata": {},
   "outputs": [],
   "source": [
    "#Thực hiện cân bằng sáng với ảnh Sáng:\n",
    "\n",
    "\n",
    "\n",
    "\n",
    "\n",
    "\n"
   ]
  },
  {
   "cell_type": "markdown",
   "id": "737bf07c",
   "metadata": {},
   "source": [
    "**Để cân bằng sáng trên ảnh màu:**\n",
    "* Convert sang không gian YUV, trong đó Y là độ sáng (luma hay brightness), U và V là kênh màu.\n",
    "* Áp dụng equalizeHist trên kênh Y\n",
    "* Convert trở về RGB (hoặc BGR tuỳ ảnh gốc)\n"
   ]
  },
  {
   "cell_type": "code",
   "execution_count": null,
   "id": "b5fb0ae0",
   "metadata": {},
   "outputs": [],
   "source": [
    "#Đọc ảnh màu:\n",
    "img_bgr = cv2.imread('images/pic_fish.jpg')\n",
    "\n",
    "#Chuyển đổi từ hệ màu BGR sang YUV:\n",
    "img_yuv = cv2.cvtColor(img_bgr,cv2.COLOR_BGR2YUV)\n",
    "\n",
    "#Cân bằng sáng trên kênh Y:\n",
    "img_yuv[:,:,0] = cv2.equalizeHist(img_yuv[:,:,0])\n",
    "\n",
    "#chuyển đổi ngược ảnh đã cân bằng từ hệ YUV  về BGR:\n",
    "img_bgr2 = cv2.cvtColor(img_yuv,cv2.COLOR_YUV2BGR)\n",
    "\n",
    "#Hiển thị ảnh gốc và ảnh đã cân bằng sáng:\n",
    "plt.figure(figsize=(10,5))\n",
    "plt.subplot(1, 2, 1)\n",
    "plt.imshow(cv2.cvtColor(img_bgr,cv2.COLOR_BGR2RGB))\n",
    "plt.title('Ảnh màu Gốc')\n",
    "\n",
    "plt.subplot(1, 2, 2)\n",
    "plt.imshow(cv2.cvtColor(img_bgr2,cv2.COLOR_BGR2RGB))\n",
    "plt.title('Ảnh màu đã cân bằng')\n",
    "\n",
    "plt.show()"
   ]
  },
  {
   "cell_type": "code",
   "execution_count": null,
   "id": "55310e1d",
   "metadata": {},
   "outputs": [],
   "source": []
  },
  {
   "cell_type": "code",
   "execution_count": null,
   "id": "eedc7b5c",
   "metadata": {},
   "outputs": [],
   "source": []
  },
  {
   "cell_type": "markdown",
   "id": "d2dde9a7",
   "metadata": {},
   "source": [
    "## THỰC HÀNH 2.7: \n",
    "---\n",
    "\n",
    "* Yêu cầu 1: Sinh viên đọc ảnh images/Thuchanh2_6.jpg ở dạng ảnh xám. Thực hiện cân bằng sáng trên ảnh Xám, hiển thị ảnh gốc và ảnh sau cần bằng cùng với Histogram tương ứng của mỗi ảnh.\n",
    "* Yêu cầu 2: Sinh viên đọc ảnh images/Thuchanh2_6.jpg ở dạng ảnh màu. Thực hiện cân bằng sáng trên ảnh màu, hiển thị ảnh gốc và ảnh sau cần bằng ở dạng ảnh màu.\n",
    "* Yêu cầu 3: Lưu ảnh xám và ảnh màu đã cân bằng vào thư mục images/Saves.\n",
    "\n",
    "<img src = 'images/Thuchanh2_6.jpg' width='150px'>"
   ]
  },
  {
   "cell_type": "code",
   "execution_count": null,
   "id": "dfcf1e69",
   "metadata": {},
   "outputs": [],
   "source": [
    "#{SINH VIÊN VIẾT CODE Ở ĐÂY}\n",
    "\n",
    "\n",
    "\n",
    "\n",
    "\n"
   ]
  },
  {
   "cell_type": "code",
   "execution_count": null,
   "id": "8face83a",
   "metadata": {},
   "outputs": [],
   "source": []
  },
  {
   "cell_type": "code",
   "execution_count": null,
   "id": "3097275c",
   "metadata": {},
   "outputs": [],
   "source": []
  },
  {
   "cell_type": "code",
   "execution_count": null,
   "id": "f10e687b",
   "metadata": {},
   "outputs": [],
   "source": []
  },
  {
   "cell_type": "code",
   "execution_count": null,
   "id": "9bd4b949",
   "metadata": {},
   "outputs": [],
   "source": []
  },
  {
   "cell_type": "code",
   "execution_count": null,
   "id": "69452744",
   "metadata": {},
   "outputs": [],
   "source": []
  },
  {
   "cell_type": "markdown",
   "id": "370b838e",
   "metadata": {},
   "source": [
    "### Note: Equalize Histogram:\n",
    "---\n",
    "Tuy nhiên không phải lúc nào Equalize Histogram toàn bộ ảnh cũng giúp đạt kết quả mong muốn"
   ]
  },
  {
   "cell_type": "code",
   "execution_count": null,
   "id": "db4988e7",
   "metadata": {},
   "outputs": [],
   "source": [
    "#Đọc ảnh xám:\n",
    "img_25 = cv2.imread('images/pic_statue.jpg',0)\n",
    "\n",
    "#Thực hiện cân bằng sáng với phương thức equalizeHist():\n",
    "img_equ2 = cv2.equalizeHist(img_25)\n",
    "\n",
    "#Hiển thị ảnh và Histogram tương ứng.\n",
    "#Ảnh 1\n",
    "plt.figure(figsize=(12,6))\n",
    "plt.subplot(1, 2, 1)\n",
    "plt.imshow(img_25, cmap='gray')\n",
    "plt.title('Ảnh Gốc')\n",
    "\n",
    "plt.subplot(1, 2, 2)\n",
    "plt.imshow(img_equ2, cmap='gray')\n",
    "plt.title('Ảnh đã cân bằng sáng ')\n",
    "plt.show()"
   ]
  },
  {
   "cell_type": "markdown",
   "id": "6d2a46d5",
   "metadata": {},
   "source": [
    "Để giải quyết trường hợp này, ta cần dùng một phương pháp Histogram Equalization đặc biệt. Ảnh sẽ được chia thành các khối viên gạch \"tiles\" nhỏ (tileSize default của OpenCV là 8x8). Sau đó mỗi khối này được Equalize Histogram riêng. Nhờ đó histogram sẽ chỉ giới hạn trong một vùng nhỏ.\n",
    "\n",
    "Thư viện OpenCV cung cấp hàm: CLAHE (Contrast Limited Adaptive Histogram Equalization)\n",
    "\n",
    "cv2.createCLAHE() - https://docs.opencv.org/3.3.0/d7/dbd/group__imgproc.html#gad689d2607b7b3889453804f414ab1018"
   ]
  },
  {
   "cell_type": "code",
   "execution_count": null,
   "id": "619f88d4",
   "metadata": {},
   "outputs": [],
   "source": [
    "clahe = cv2.createCLAHE(clipLimit=3.0, tileGridSize=(15,15))\n",
    "img_clahe = clahe.apply(img_25)\n",
    "\n",
    "#Hiển thị ảnh:\n",
    "plt.figure(figsize=(12,6))\n",
    "plt.subplot(1, 2, 1)\n",
    "plt.imshow(img_25, cmap='gray')\n",
    "plt.title('Ảnh Gốc')\n",
    "\n",
    "plt.subplot(1, 2, 2)\n",
    "plt.imshow(img_clahe, cmap='gray')\n",
    "plt.title('Ảnh đã cân bằng sáng CLAHE ')\n",
    "plt.show()"
   ]
  },
  {
   "cell_type": "code",
   "execution_count": null,
   "id": "4df0f822",
   "metadata": {},
   "outputs": [],
   "source": []
  },
  {
   "cell_type": "markdown",
   "id": "6b5918a6",
   "metadata": {},
   "source": [
    "### Yêu cầu 4: Đọc ảnh Thuchanh2_6.jpg ở dạng ảnh Xám.\n",
    "- Thực hiện cân bằng sáng toàn ảnh, cân bằng theo từng vùng 15x15.\n",
    "- Hiển thị 3 ảnh: Ảnh gốc - Ảnh cân bằng toàn ảnh - Ảnh cân bằng theo vùng 15x15.\n"
   ]
  },
  {
   "cell_type": "code",
   "execution_count": null,
   "id": "24efcb7e",
   "metadata": {},
   "outputs": [],
   "source": [
    "\n",
    "\n"
   ]
  },
  {
   "cell_type": "code",
   "execution_count": null,
   "id": "b8215790",
   "metadata": {},
   "outputs": [],
   "source": []
  },
  {
   "cell_type": "code",
   "execution_count": null,
   "id": "9d31e4c5",
   "metadata": {},
   "outputs": [],
   "source": []
  }
 ],
 "metadata": {
  "kernelspec": {
   "display_name": "Python 3 (ipykernel)",
   "language": "python",
   "name": "python3"
  },
  "language_info": {
   "codemirror_mode": {
    "name": "ipython",
    "version": 3
   },
   "file_extension": ".py",
   "mimetype": "text/x-python",
   "name": "python",
   "nbconvert_exporter": "python",
   "pygments_lexer": "ipython3",
   "version": "3.9.7"
  }
 },
 "nbformat": 4,
 "nbformat_minor": 5
}
